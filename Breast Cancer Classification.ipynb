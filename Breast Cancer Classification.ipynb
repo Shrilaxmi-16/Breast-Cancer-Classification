{
 "cells": [
  {
   "cell_type": "code",
   "execution_count": null,
   "id": "02dd348e-8727-45c9-ba42-c76a75f7771a",
   "metadata": {},
   "outputs": [],
   "source": [
    "# Import libraries\n",
    "import pandas as pd\n",
    "import numpy as np\n",
    "import matplotlib.pyplot as plt\n",
    "import seaborn as sns\n",
    "import plotly.express as px\n",
    "import pprint\n",
    "\n",
    "from sklearn.model_selection import train_test_split, GridSearchCV, cross_val_score\n",
    "from sklearn.preprocessing import LabelEncoder, StandardScaler\n",
    "from sklearn.svm import SVC\n",
    "from sklearn.metrics import classification_report, confusion_matrix, accuracy_score\n",
    "import warnings # current version of seaborn generates a bunch of warnings that we'll ignore\n",
    "warnings.filterwarnings(\"ignore\")\n"
   ]
  },
  {
   "cell_type": "code",
   "execution_count": null,
   "id": "e8fcd3b0-d5a6-43b2-84f9-5a102505fde0",
   "metadata": {},
   "outputs": [],
   "source": [
    "pd.read_csv(\"breast-cancer.csv\")"
   ]
  },
  {
   "cell_type": "code",
   "execution_count": null,
   "id": "60cf9dbb-6306-4382-956b-dd3433e74035",
   "metadata": {},
   "outputs": [],
   "source": [
    "df = pd.read_csv(\"breast-cancer.csv\")\n",
    "print(\"Dataset Shape:\", df.shape)\n",
    "print(df.head())"
   ]
  },
  {
   "cell_type": "code",
   "execution_count": null,
   "id": "2807395e-691f-418b-83fc-16ed48b5cccf",
   "metadata": {},
   "outputs": [],
   "source": [
    "print(\"\\nSummary Statistics:\\n\", df.describe())"
   ]
  },
  {
   "cell_type": "code",
   "execution_count": null,
   "id": "a723efd2-5150-474c-a6a7-f3d194a43fb7",
   "metadata": {},
   "outputs": [],
   "source": [
    "print(\"\\nMissing Values:\\n\", df.isnull().sum())"
   ]
  },
  {
   "cell_type": "markdown",
   "id": "637e5aec-492c-4b04-84ff-0bdc9056eac5",
   "metadata": {},
   "source": [
    "# Visualization"
   ]
  },
  {
   "cell_type": "code",
   "execution_count": null,
   "id": "efc0a2ad-bce4-4463-b383-8e7fecb23deb",
   "metadata": {},
   "outputs": [],
   "source": [
    "sns.countplot(x='diagnosis', data=df, palette=\"Set1\")\n",
    "plt.title(\"Class Distribution\")\n",
    "plt.show()\n",
    "\n",
    "print(df['diagnosis'].value_counts(normalize=True))"
   ]
  },
  {
   "cell_type": "code",
   "execution_count": null,
   "id": "7faa69bd-ac46-42c7-85eb-9213cbeb6eba",
   "metadata": {},
   "outputs": [],
   "source": [
    "px.pie(df, 'diagnosis', color='diagnosis',color_discrete_sequence=['#007500','#5CFF5C'],title='Data Distribution')"
   ]
  },
  {
   "cell_type": "code",
   "execution_count": null,
   "id": "3d93069d-2903-4c9d-a9b0-c3a321fd4e2a",
   "metadata": {},
   "outputs": [],
   "source": [
    "for column in  df.drop('diagnosis',axis=1).columns[:5]:\n",
    "    fig = px.box(data_frame=df,x='diagnosis',color='diagnosis',y=column,color_discrete_sequence=['#007500','#5CFF5C'],orientation='v')\n",
    "    fig.show()  "
   ]
  },
  {
   "cell_type": "code",
   "execution_count": null,
   "id": "a2fb86f4-bf12-4c23-bb1c-9a8c269986bd",
   "metadata": {},
   "outputs": [],
   "source": [
    "df['diagnosis'] = (df['diagnosis'] == 'M').astype(int) #encode the label into 1/0\n",
    "corr = df.corr()\n",
    "plt.figure(figsize=(20,20))\n",
    "sns.heatmap(corr, cmap='viridis_r',annot=True)\n",
    "plt.show()\n"
   ]
  },
  {
   "cell_type": "code",
   "execution_count": null,
   "id": "d412f255-f2f4-4dbd-9752-55ff73745fa3",
   "metadata": {},
   "outputs": [],
   "source": [
    "# Correlation with diagnosis\n",
    "corr = df.corr()['diagnosis'].sort_values(ascending=False).head(11)  # top 10 + diagnosis\n",
    "plt.figure(figsize=(8,6))\n",
    "sns.heatmap(df[corr.index].corr(), annot=True, cmap=\"coolwarm\", fmt=\".2f\")\n",
    "plt.title(\"Top Correlated Features with Diagnosis\")\n",
    "plt.show()\n"
   ]
  },
  {
   "cell_type": "code",
   "execution_count": null,
   "id": "fff90c2a-82b9-4436-a084-30353dfd1670",
   "metadata": {},
   "outputs": [],
   "source": [
    "features = ['radius_mean', 'texture_mean', 'perimeter_mean', 'area_mean', 'smoothness_mean']\n",
    "plt.figure(figsize=(12,6))\n",
    "for i, feat in enumerate(features, 1):\n",
    "    plt.subplot(2, 3, i)\n",
    "    sns.violinplot(x=\"diagnosis\", y=feat, data=df, palette=\"muted\", split=True)\n",
    "    plt.title(f\"{feat} by Diagnosis\")\n",
    "plt.tight_layout()\n",
    "plt.show()"
   ]
  },
  {
   "cell_type": "code",
   "execution_count": null,
   "id": "4e0bfdbd-7e99-4adf-8d30-7a85429e1d43",
   "metadata": {},
   "outputs": [],
   "source": [
    "plt.figure(figsize=(10,6))\n",
    "sns.swarmplot(x=\"diagnosis\", y=\"radius_mean\", data=df, palette=\"Set1\", alpha=0.7)\n",
    "plt.title(\"Swarm Plot: Radius Mean by Diagnosis\")\n",
    "plt.show()"
   ]
  },
  {
   "cell_type": "code",
   "execution_count": null,
   "id": "85726eb1-7954-40c2-b53e-92d85f678b4e",
   "metadata": {},
   "outputs": [],
   "source": [
    "plt.figure(figsize=(10,6))\n",
    "sns.boxenplot(x=\"diagnosis\", y=\"area_mean\", data=df, palette=\"Set2\")\n",
    "plt.title(\"Boxen Plot: Area Mean by Diagnosis\")\n",
    "plt.show()\n"
   ]
  },
  {
   "cell_type": "code",
   "execution_count": null,
   "id": "5325e42b-bc17-427e-b8ec-7d682de355a7",
   "metadata": {},
   "outputs": [],
   "source": [
    "df.drop(['id'], axis=1, errors='ignore').hist(bins=30, figsize=(15,10), color=\"skyblue\")\n",
    "plt.suptitle(\"Feature Distributions\", fontsize=16)\n",
    "plt.show()\n"
   ]
  },
  {
   "cell_type": "code",
   "execution_count": null,
   "id": "59e86a90-6142-43f0-84ef-2802d54ae953",
   "metadata": {},
   "outputs": [],
   "source": [
    "df['radius_bin'] = pd.qcut(df['radius_mean'], q=5)  # divide into 5 bins\n",
    "ct = pd.crosstab(df['radius_bin'], df['diagnosis'])\n",
    "\n",
    "ct.plot(kind=\"bar\", stacked=True, figsize=(10,6), colormap=\"coolwarm\")\n",
    "plt.title(\"Diagnosis Distribution across Radius Mean Bins\")\n",
    "plt.ylabel(\"Count\")\n",
    "plt.show()"
   ]
  },
  {
   "cell_type": "code",
   "execution_count": null,
   "id": "f19a8aee-9f8c-4034-b9e4-fb5038c36c03",
   "metadata": {},
   "outputs": [],
   "source": [
    "features = ['radius_mean', 'texture_mean', 'perimeter_mean', 'area_mean']\n",
    "for feat in features:\n",
    "    plt.figure(figsize=(6,4))\n",
    "    sns.kdeplot(df[df['diagnosis']==0][feat], label=\"Benign\", shade=True)\n",
    "    sns.kdeplot(df[df['diagnosis']==1][feat], label=\"Malignant\", shade=True)\n",
    "    plt.title(f\"Distribution of {feat} by Diagnosis\")\n",
    "    plt.legend()\n",
    "    plt.show()"
   ]
  },
  {
   "cell_type": "code",
   "execution_count": null,
   "id": "98ee3ca7-cd6a-4ffe-aa41-4d3d81ea450f",
   "metadata": {},
   "outputs": [],
   "source": [
    "plt.figure(figsize=(10,6))\n",
    "sns.boxplot(x=\"diagnosis\", y=\"radius_mean\", data=df, palette=\"Set2\")\n",
    "plt.title(\"Radius Mean by Diagnosis\")\n",
    "plt.show()"
   ]
  },
  {
   "cell_type": "code",
   "execution_count": null,
   "id": "b53736f6-e8d6-4f86-b77c-93c7b6016042",
   "metadata": {},
   "outputs": [],
   "source": [
    "# Distribution of classes\n",
    "sns.countplot(x='diagnosis', data=df, palette='Set2')\n",
    "plt.title(\"Target Variable Distribution (0 = Benign, 1 = Malignant)\")\n",
    "plt.show()"
   ]
  },
  {
   "cell_type": "code",
   "execution_count": null,
   "id": "8d484368-7ecf-414d-ae5a-32783be5ddfa",
   "metadata": {},
   "outputs": [],
   "source": [
    "# Select only first 5 numerical features + target column\n",
    "sns.pairplot(df[['radius_mean', 'texture_mean', 'perimeter_mean', 'area_mean', 'smoothness_mean', 'diagnosis']], \n",
    "             hue=\"diagnosis\", diag_kind=\"kde\")\n",
    "plt.show()"
   ]
  },
  {
   "cell_type": "code",
   "execution_count": null,
   "id": "0aa262bc-e93b-40cd-bbd9-66195a69069f",
   "metadata": {},
   "outputs": [],
   "source": [
    "#  Preprocessing\n",
    "\n",
    "X = df.drop(['id','diagnosis'], axis=1, errors='ignore')  # drop id if present\n",
    "y = df['diagnosis']\n",
    "\n",
    "X = X.select_dtypes(include=[np.number])\n",
    "scaler = StandardScaler()\n",
    "X_scaled = scaler.fit_transform(X)\n",
    "\n",
    "X_train, X_test, y_train, y_test = train_test_split(\n",
    "    X_scaled, y, test_size=0.2, random_state=42, stratify=y\n",
    ")"
   ]
  },
  {
   "cell_type": "code",
   "execution_count": null,
   "id": "8e29c1bb-d2a9-4fe9-8455-d9f00c590f1f",
   "metadata": {},
   "outputs": [],
   "source": [
    "from sklearn.decomposition import PCA\n",
    "\n",
    "pca = PCA(n_components=2)\n",
    "X_pca = pca.fit_transform(X_scaled)\n",
    "\n",
    "plt.figure(figsize=(8,6))\n",
    "plt.scatter(X_pca[:,0], X_pca[:,1], c=y, cmap=\"coolwarm\", edgecolor=\"k\", s=40)\n",
    "plt.xlabel(\"PCA Component 1\")\n",
    "plt.ylabel(\"PCA Component 2\")\n",
    "plt.title(\"PCA Visualization of Breast Cancer Data\")\n",
    "plt.show()"
   ]
  },
  {
   "cell_type": "code",
   "execution_count": null,
   "id": "58485b77-c14f-4b02-b9be-6682038ac998",
   "metadata": {},
   "outputs": [],
   "source": [
    "from mpl_toolkits.mplot3d import Axes3D\n",
    "from sklearn.decomposition import PCA\n",
    "\n",
    "pca = PCA(n_components=3)\n",
    "X_pca = pca.fit_transform(X_scaled)\n",
    "\n",
    "fig = plt.figure(figsize=(8,6))\n",
    "ax = fig.add_subplot(111, projection='3d')\n",
    "ax.scatter(X_pca[:,0], X_pca[:,1], X_pca[:,2], c=y, cmap=\"coolwarm\", s=50)\n",
    "ax.set_xlabel(\"PC1\")\n",
    "ax.set_ylabel(\"PC2\")\n",
    "ax.set_zlabel(\"PC3\")\n",
    "plt.title(\"3D PCA Visualization\")\n",
    "plt.show()\n"
   ]
  },
  {
   "cell_type": "code",
   "execution_count": null,
   "id": "32e36e0c-7530-462f-9ad1-ca10bc07371d",
   "metadata": {},
   "outputs": [],
   "source": [
    "# Train SVM (Linear & RBF)\n",
    "\n",
    "svm_linear = SVC(kernel=\"linear\")\n",
    "svm_linear.fit(X_train, y_train)\n",
    "y_pred_linear = svm_linear.predict(X_test)\n",
    "\n",
    "print(\"\\n--- Linear SVM Performance ---\")\n",
    "print(classification_report(y_test, y_pred_linear))"
   ]
  },
  {
   "cell_type": "code",
   "execution_count": null,
   "id": "1ecdfee1-2cea-4c5d-9242-94ea94dca6d7",
   "metadata": {},
   "outputs": [],
   "source": [
    "svm_rbf = SVC(kernel=\"rbf\")\n",
    "svm_rbf.fit(X_train, y_train)\n",
    "y_pred_rbf = svm_rbf.predict(X_test)\n",
    "\n",
    "print(\"\\n--- RBF SVM Performance ---\")\n",
    "print(classification_report(y_test, y_pred_rbf))"
   ]
  },
  {
   "cell_type": "code",
   "execution_count": null,
   "id": "cd349494-9988-42cb-8435-a5c21070da51",
   "metadata": {},
   "outputs": [],
   "source": [
    "# Decision Boundary (2D Visualization)\n",
    "\n",
    "# Use only two features (e.g., radius_mean, texture_mean)\n",
    "X2 = df[['radius_mean', 'texture_mean']]\n",
    "y2 = df['diagnosis']\n",
    "X2_scaled = scaler.fit_transform(X2)\n",
    "\n",
    "X2_train, X2_test, y2_train, y2_test = train_test_split(X2_scaled, y2, test_size=0.2, random_state=42)\n",
    "\n",
    "clf2 = SVC(kernel='rbf', C=1, gamma=0.5)\n",
    "clf2.fit(X2_train, y2_train)"
   ]
  },
  {
   "cell_type": "code",
   "execution_count": null,
   "id": "c1fb8ef1-fecd-4ef6-9ebd-f75e2941d774",
   "metadata": {},
   "outputs": [],
   "source": [
    "# Meshgrid for decision boundary\n",
    "x_min, x_max = X2_scaled[:,0].min() - 1, X2_scaled[:,0].max() + 1\n",
    "y_min, y_max = X2_scaled[:,1].min() - 1, X2_scaled[:,1].max() + 1\n",
    "xx, yy = np.meshgrid(np.linspace(x_min, x_max, 200),\n",
    "                     np.linspace(y_min, y_max, 200))\n",
    "\n",
    "Z = clf2.predict(np.c_[xx.ravel(), yy.ravel()])\n",
    "Z = Z.reshape(xx.shape)\n",
    "\n",
    "plt.contourf(xx, yy, Z, alpha=0.3, cmap=plt.cm.coolwarm)\n",
    "plt.scatter(X2_scaled[:,0], X2_scaled[:,1], c=y2, edgecolors='k', cmap=plt.cm.coolwarm)\n",
    "plt.xlabel(\"Radius Mean\")\n",
    "plt.ylabel(\"Texture Mean\")\n",
    "plt.title(\"SVM Decision Boundary (RBF Kernel)\")\n",
    "plt.show()"
   ]
  },
  {
   "cell_type": "code",
   "execution_count": null,
   "id": "9c7185c2-3455-4b4d-a9a7-d98c22c59957",
   "metadata": {},
   "outputs": [],
   "source": [
    "#  Hyperparameter Tuning\n",
    "\n",
    "param_grid = {\n",
    "    'C': [0.1, 1, 10, 100],\n",
    "    'gamma': [1, 0.1, 0.01, 0.001],\n",
    "    'kernel': ['rbf']\n",
    "}\n",
    "\n",
    "grid = GridSearchCV(SVC(), param_grid, refit=True, verbose=1, cv=5)\n",
    "grid.fit(X_train, y_train)\n",
    "\n",
    "print(\"\\nBest Hyperparameters:\", grid.best_params_)\n",
    "print(\"Best Cross-Validation Score:\", grid.best_score_)"
   ]
  },
  {
   "cell_type": "code",
   "execution_count": null,
   "id": "1905616f-2fd5-42cc-bfce-e550e14f0c3a",
   "metadata": {},
   "outputs": [],
   "source": [
    "# Evaluate best model\n",
    "y_pred_best = grid.best_estimator_.predict(X_test)\n",
    "print(\"\\n--- Tuned RBF SVM Performance ---\")\n",
    "print(classification_report(y_test, y_pred_best))"
   ]
  },
  {
   "cell_type": "code",
   "execution_count": null,
   "id": "bfd2d721-d231-4825-8b4b-b6bef6dd2bcf",
   "metadata": {},
   "outputs": [],
   "source": [
    "#  Cross-validation with Linear SVM\n",
    "\n",
    "cv_scores = cross_val_score(svm_linear, X_scaled, y, cv=5)\n",
    "print(\"\\nCross-validation Accuracy (Linear SVM):\", cv_scores.mean())"
   ]
  },
  {
   "cell_type": "code",
   "execution_count": null,
   "id": "745e26d2-8b07-4b7d-a2e5-fedd6b264d91",
   "metadata": {},
   "outputs": [],
   "source": [
    "from sklearn.feature_selection import SelectKBest, f_classif\n",
    "\n",
    "selector = SelectKBest(score_func=f_classif, k=10)\n",
    "fit = selector.fit(X_scaled, y)\n",
    "feature_scores = pd.DataFrame({\n",
    "    'Feature': X.columns,\n",
    "    'Score': fit.scores_\n",
    "}).sort_values(by=\"Score\", ascending=False)\n",
    "\n",
    "print(feature_scores.head(10))\n"
   ]
  },
  {
   "cell_type": "code",
   "execution_count": null,
   "id": "d43a8359-556e-4a91-b849-9e1461a44c12",
   "metadata": {},
   "outputs": [],
   "source": [
    "from sklearn.metrics import confusion_matrix, ConfusionMatrixDisplay, roc_curve, auc\n",
    "\n",
    "# Confusion Matrix\n",
    "cm = confusion_matrix(y_test, y_pred_best)\n",
    "disp = ConfusionMatrixDisplay(confusion_matrix=cm, display_labels=[\"Benign\", \"Malignant\"])\n",
    "disp.plot(cmap=\"Blues\")\n",
    "plt.show()\n",
    "\n",
    "# ROC Curve\n",
    "fpr, tpr, _ = roc_curve(y_test, y_pred_best)\n",
    "roc_auc = auc(fpr, tpr)\n",
    "\n",
    "plt.figure(figsize=(6,4))\n",
    "plt.plot(fpr, tpr, label=f\"ROC curve (area = {roc_auc:.2f})\")\n",
    "plt.plot([0,1],[0,1],'--', color=\"gray\")\n",
    "plt.xlabel(\"False Positive Rate\")\n",
    "plt.ylabel(\"True Positive Rate\")\n",
    "plt.title(\"ROC Curve\")\n",
    "plt.legend()\n",
    "plt.show()\n"
   ]
  },
  {
   "cell_type": "code",
   "execution_count": null,
   "id": "eccb6c9e-8e64-491e-9db6-e2a153d8f10a",
   "metadata": {},
   "outputs": [],
   "source": [
    "from sklearn.cluster import KMeans\n",
    "\n",
    "kmeans = KMeans(n_clusters=2, random_state=42)\n",
    "clusters = kmeans.fit_predict(X_scaled)\n",
    "\n",
    "plt.figure(figsize=(8,6))\n",
    "plt.scatter(X_pca[:,0], X_pca[:,1], c=clusters, cmap=\"coolwarm\", s=40, edgecolor=\"k\")\n",
    "plt.title(\"KMeans Clustering (2 clusters)\")\n",
    "plt.show()\n"
   ]
  },
  {
   "cell_type": "code",
   "execution_count": null,
   "id": "1c73201f-6919-410a-8cd9-f315eb2b5450",
   "metadata": {},
   "outputs": [],
   "source": [
    "from sklearn.model_selection import GridSearchCV, cross_val_score\n",
    "from sklearn.svm import SVC\n",
    "from sklearn.metrics import classification_report, confusion_matrix, accuracy_score\n",
    "\n",
    "# ============================\n",
    "# Hyperparameter Tuning (RBF SVM)\n",
    "# ============================\n",
    "param_grid = {\n",
    "    'C': [0.1, 1, 10, 100],        # Regularization parameter\n",
    "    'gamma': [1, 0.1, 0.01, 0.001], # Kernel coefficient\n",
    "    'kernel': ['rbf']\n",
    "}\n",
    "\n",
    "grid = GridSearchCV(SVC(probability=True), param_grid, refit=True, verbose=1, cv=5, scoring='accuracy')\n",
    "grid.fit(X_train, y_train)\n",
    "\n",
    "print(\"✅ Best Parameters:\", grid.best_params_)\n",
    "print(\"✅ Best CV Score:\", grid.best_score_)"
   ]
  },
  {
   "cell_type": "code",
   "execution_count": null,
   "id": "b5695364-8790-4120-aedf-4c4e48d09898",
   "metadata": {},
   "outputs": [],
   "source": [
    "# Evaluate on test set\n",
    "y_pred_best = grid.best_estimator_.predict(X_test)\n",
    "\n",
    "print(\"\\n--- Tuned RBF SVM Performance ---\")\n",
    "print(\"Accuracy:\", accuracy_score(y_test, y_pred_best))\n",
    "print(classification_report(y_test, y_pred_best))\n",
    "print(\"Confusion Matrix:\\n\", confusion_matrix(y_test, y_pred_best))"
   ]
  },
  {
   "cell_type": "code",
   "execution_count": null,
   "id": "41807029-f0e7-43ec-bc42-43f852902860",
   "metadata": {},
   "outputs": [],
   "source": [
    "# Plot Confusion Matrix\n",
    "disp = ConfusionMatrixDisplay(confusion_matrix=confusion_matrix(y_test, y_pred_best),\n",
    "                              display_labels=[\"Benign\",\"Malignant\"])\n",
    "disp.plot(cmap=\"Blues\")\n",
    "plt.title(\"Confusion Matrix - Tuned RBF SVM\")\n",
    "plt.show()"
   ]
  },
  {
   "cell_type": "code",
   "execution_count": null,
   "id": "e16c5a2f-7738-4390-856c-b73e7709850c",
   "metadata": {},
   "outputs": [],
   "source": [
    "# Cross-validation (Linear SVM)\n",
    "\n",
    "# Linear SVM\n",
    "svm_linear = SVC(kernel=\"linear\", C=1)\n",
    "cv_scores_linear = cross_val_score(svm_linear, X_scaled, y, cv=5, scoring='accuracy')\n",
    "print(\"\\nCross-validation Accuracy (Linear SVM):\", cv_scores_linear.mean())"
   ]
  },
  {
   "cell_type": "code",
   "execution_count": null,
   "id": "a4de781a-fc2e-4958-afe4-8fd8de492005",
   "metadata": {},
   "outputs": [],
   "source": [
    "# Best RBF SVM (from GridSearch)\n",
    "best_rbf = grid.best_estimator_\n",
    "cv_scores_rbf = cross_val_score(best_rbf, X_scaled, y, cv=5, scoring='accuracy')\n",
    "print(\"Cross-validation Accuracy (Best RBF SVM):\", cv_scores_rbf.mean())"
   ]
  },
  {
   "cell_type": "code",
   "execution_count": null,
   "id": "e8c96361-324c-4429-93c2-d57c055a7332",
   "metadata": {},
   "outputs": [],
   "source": [
    "from sklearn.metrics import roc_curve, auc\n",
    "import matplotlib.pyplot as plt\n",
    "\n",
    "# Predict probabilities with best RBF SVM\n",
    "y_prob = grid.best_estimator_.predict_proba(X_test)[:,1]\n",
    "\n",
    "# Compute ROC curve and AUC\n",
    "fpr, tpr, _ = roc_curve(y_test, y_prob)\n",
    "roc_auc = auc(fpr, tpr)\n",
    "\n",
    "# Plot ROC Curve\n",
    "plt.figure(figsize=(7,5))\n",
    "plt.plot(fpr, tpr, color=\"blue\", lw=2, label=f\"RBF SVM (AUC = {roc_auc:.2f})\")\n",
    "plt.plot([0,1], [0,1], color=\"gray\", linestyle=\"--\", lw=1)\n",
    "plt.xlabel(\"False Positive Rate\")\n",
    "plt.ylabel(\"True Positive Rate\")\n",
    "plt.title(\"ROC Curve - Tuned RBF SVM\")\n",
    "plt.legend(loc=\"lower right\")\n",
    "plt.grid(True, linestyle=\"--\", alpha=0.7)\n",
    "plt.show()\n"
   ]
  },
  {
   "cell_type": "code",
   "execution_count": null,
   "id": "7bd51c57-edd4-4dcf-a997-c8f47fd053ab",
   "metadata": {},
   "outputs": [],
   "source": [
    "# Cross-validation accuracy results\n",
    "linear_acc = cv_scores_linear.mean()\n",
    "rbf_acc = cv_scores_rbf.mean()\n",
    "\n",
    "# Bar chart\n",
    "models = ['Linear SVM', 'Tuned RBF SVM']\n",
    "scores = [linear_acc, rbf_acc]\n",
    "\n",
    "plt.figure(figsize=(6,5))\n",
    "plt.bar(models, scores, color=['skyblue','salmon'])\n",
    "plt.ylabel(\"Mean CV Accuracy\")\n",
    "plt.ylim(0,1)\n",
    "for i, score in enumerate(scores):\n",
    "    plt.text(i, score+0.01, f\"{score:.3f}\", ha='center', fontsize=11, fontweight='bold')\n",
    "plt.title(\"Cross-Validation Accuracy Comparison\")\n",
    "plt.show()\n"
   ]
  },
  {
   "cell_type": "code",
   "execution_count": null,
   "id": "1f510237-58ba-4b35-aaa3-18756c5f36d7",
   "metadata": {},
   "outputs": [],
   "source": []
  },
  {
   "cell_type": "code",
   "execution_count": null,
   "id": "53994a04-da7a-4864-809b-f4c1e6901f0e",
   "metadata": {},
   "outputs": [],
   "source": []
  }
 ],
 "metadata": {
  "kernelspec": {
   "display_name": "Python 3 (ipykernel)",
   "language": "python",
   "name": "python3"
  },
  "language_info": {
   "codemirror_mode": {
    "name": "ipython",
    "version": 3
   },
   "file_extension": ".py",
   "mimetype": "text/x-python",
   "name": "python",
   "nbconvert_exporter": "python",
   "pygments_lexer": "ipython3",
   "version": "3.12.6"
  }
 },
 "nbformat": 4,
 "nbformat_minor": 5
}
